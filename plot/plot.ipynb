{
 "cells": [
  {
   "cell_type": "code",
   "execution_count": null,
   "metadata": {},
   "outputs": [],
   "source": [
    "# Requirements\n",
    "\n",
    "import pandas as pd\n",
    "import matplotlib as mplt\n",
    "import matplotlib.pyplot as plt"
   ]
  },
  {
   "cell_type": "code",
   "execution_count": null,
   "metadata": {},
   "outputs": [],
   "source": [
    "csvs = [\"threads\",\"fastflow\",\"fastflow_blocking\",\"fastflow_blocking_no_map\",\"threads_pinned\",\"omp\"]\n",
    "\n",
    "df = pd.concat([\n",
    "        pd.read_csv(\"../data/threads.csv\"),\n",
    "        pd.read_csv(\"../data/fastflow.csv\"),\n",
    "        pd.read_csv(\"../data/fastflow_blocking.csv\"),\n",
    "        pd.read_csv(\"../data/fastflow_blocking_no_map.csv\"),\n",
    "        pd.read_csv(\"../data/threads_pinned.csv\"),\n",
    "        pd.read_csv(\"../data/omp.csv\")\n",
    "        ]).reset_index()\n",
    "sequentials = pd.read_csv(\"../data/sequential.csv\").reset_index()"
   ]
  },
  {
   "cell_type": "code",
   "execution_count": null,
   "metadata": {},
   "outputs": [],
   "source": [
    "df = df[df['nworkers'] >= 2]\n",
    "df['nworkers'] -= 1\n",
    "\n",
    "programs = df['name'].unique()\n",
    "all_n_workers = df['nworkers'].unique()\n",
    "filenames = df['filename'].unique()\n",
    "\n",
    "def crop_slash(e): return e.split('/')[1].split('.')[0]\n",
    "\n",
    "programs = [('threads',                  'd', '-'),\n",
    "            ('threads_pinned',           's', '-'),\n",
    "            ('fastflow',                 '^', '-'),\n",
    "            ('fastflow_blocking',        'v', '-'),\n",
    "            ('fastflow_blocking_no_map', 'P', '-'),\n",
    "            ('omp',                      '*', '-')]"
   ]
  },
  {
   "cell_type": "code",
   "execution_count": null,
   "metadata": {},
   "outputs": [],
   "source": [
    "sequentials['read_time'] = [9326,2636,1104]\n",
    "sequentials['init_time'] = [173849,62852,35543]\n",
    "sequentials['total_time'] = [66790000,9810000,2080000]\n",
    "sequentials['processing_time'] = [72292,25126,9525]\n",
    "sequentials['frames'] = [816,431,227]"
   ]
  },
  {
   "cell_type": "markdown",
   "metadata": {},
   "source": [
    "# Read timings"
   ]
  },
  {
   "cell_type": "code",
   "execution_count": null,
   "metadata": {},
   "outputs": [],
   "source": [
    "works, fasts = [], []\n",
    "for i, f in enumerate(filenames):\n",
    "    fast = pd.read_csv(f\"../data/fast_read_{crop_slash(f)}.csv\").head(-2).tail(-2)\n",
    "    work = pd.read_csv(f\"../data/work_read_{crop_slash(f)}.csv\").head(-2).tail(-2)  \n",
    "    #if i != 2:\n",
    "    plt.subplot(3, 1, i+1)\n",
    "    plt.gcf().tight_layout()\n",
    "    plt.gcf().set_size_inches(10, 8)\n",
    "    line, = plt.plot(work,label='work read with grey + blur + diff workload')\n",
    "    plt.hlines(work['time'].mean(), xmin=0, xmax=len(work), color='red', linestyles=\"-.\", label='work average')\n",
    "    line, = plt.plot(fast,label='fast successive reads')\n",
    "    plt.hlines(fast['time'].mean(), xmin=0, xmax=len(fast), color='red', linestyles=\"--\", label='fast average')\n",
    "    plt.legend(loc=1, prop={'size': 9})\n",
    "    plt.ylabel(\"Read time (microseconds)\")\n",
    "    if i == 2:\n",
    "        plt.xlabel(\"Frame number\")\n",
    "    plt.title(f\"{f} - Read timings\")\n",
    "\n",
    "    print(f,int(work['time'].mean()),int(fast['time'].mean()),100*(1-int(fast['time'].mean())/int(work['time'].mean())),'%')\n",
    "\n",
    "    works += [int(work['time'].mean())]\n",
    "    fasts += [int(fast['time'].mean())]\n",
    "\n",
    "sequentials['work_read_time'] = sequentials['read_time']\n",
    "sequentials['fast_read_time'] = fasts\n",
    "\n",
    "plt.savefig(f'read_timings.svg',bbox_inches='tight')\n",
    "plt.show()"
   ]
  },
  {
   "cell_type": "code",
   "execution_count": null,
   "metadata": {},
   "outputs": [],
   "source": [
    "def size(): plt.gcf().set_size_inches(9, 10)"
   ]
  },
  {
   "cell_type": "markdown",
   "metadata": {},
   "source": [
    "# Speedup"
   ]
  },
  {
   "cell_type": "code",
   "execution_count": null,
   "metadata": {},
   "outputs": [],
   "source": [
    "s = \"Video name & max speedup fast & max speedup work\\n\"\n",
    "for f in filenames:\n",
    "    size()\n",
    "    def seq(n): return sequentials[sequentials['filename'] == f][n].values[0]\n",
    "\n",
    "    max_speedup_fast = seq('total_time') / (seq('init_time') + seq('fast_read_time') * seq('frames'))\n",
    "    max_speedup_work = seq('total_time') / (seq('init_time') + seq('work_read_time') * seq('frames'))\n",
    "    \n",
    "    serial_time = seq('init_time') + seq('read_time') * seq('frames')\n",
    "    serial_fraction = serial_time / seq('total_time')\n",
    "    max_speedup = 1 / serial_fraction\n",
    "\n",
    "    s += f\"{f} & {max_speedup_fast} & {max_speedup_work}\\n\"\n",
    "\n",
    "    for p, m, d in programs:\n",
    "        y = seq('total_time')/df[(df['name'] == 'bin/'+p) & (df['filename'] == f)]['avg']\n",
    "        plt.plot(all_n_workers, y, d, label=p, marker=m)\n",
    "    plt.grid(color='#e0e0e0', linestyle='-', linewidth=1)\n",
    "    plt.yscale('log') \n",
    "    plt.yticks(list(range(0,16,1)) + list(range(10,100,10)))\n",
    "    plt.gca().get_yaxis().set_major_formatter(mplt.ticker.ScalarFormatter())\n",
    "    plt.gca().get_yaxis().get_major_formatter().labelOnlyBase = False\n",
    "    plt.vlines(32, ymin=1, ymax=31, color='#d0d0d0', linestyle='-')\n",
    "    \n",
    "    plt.hlines(max_speedup_fast, xmin=1, xmax=35, linestyle='--', color='red', label='theoretical best')\n",
    "    plt.hlines(max_speedup_work, xmin=1, xmax=35, linestyle='-.', label='theoretical best (workload reads)')\n",
    "\n",
    "    plt.plot(all_n_workers, all_n_workers, '--', label='ideal')\n",
    "    plt.xticks(all_n_workers)\n",
    "\n",
    "    plt.legend()\n",
    "    plt.ylabel(\"Speedup\")\n",
    "    plt.xlabel(\"Number of workers\")\n",
    "    plt.title(f\"{f} - Speedup over number of non-emitter workers \")\n",
    "    plt.savefig(f'speedup_{crop_slash(f)}.svg',bbox_inches='tight')    \n",
    "    plt.show()\n",
    "\n",
    "print(s)"
   ]
  },
  {
   "cell_type": "markdown",
   "metadata": {},
   "source": [
    "# Completion time"
   ]
  },
  {
   "cell_type": "code",
   "execution_count": null,
   "metadata": {},
   "outputs": [],
   "source": [
    "s = \"Video name & min completion time fast & min completion time work\\n\"\n",
    "for f in filenames:\n",
    "    size()\n",
    "    def seq(n): return sequentials[sequentials['filename'] == f][n].values[0]\n",
    "\n",
    "    min_completion_time_work = seq('init_time') + seq('work_read_time') * seq('frames')\n",
    "    min_completion_time_fast = seq('init_time') + seq('fast_read_time') * seq('frames')\n",
    "\n",
    "    s += f\"{f} & {min_completion_time_fast} & {min_completion_time_work}\\n\"\n",
    "\n",
    "    for p, m, d in programs:\n",
    "        data = df[(df['name'] == 'bin/'+p) & (df['filename'] == f)]\n",
    "        y = data['avg']\n",
    "        #e = df[(df['name'] == p) & (df['filename'] == f)]['std']\n",
    "        plt.plot(all_n_workers, y/1e6, d, label=p, marker=m)\n",
    "    plt.grid(color='#e0e0e0', linestyle='-', linewidth=0.5)\n",
    "    plt.plot(all_n_workers, seq('total_time')/1e6/all_n_workers, '--', label='ideal')\n",
    "    plt.xticks(all_n_workers)\n",
    "    \n",
    "    plt.hlines(min_completion_time_fast/1e6, xmin=1, xmax=35, linestyle='--', color='red', label='theoretical best')\n",
    "    plt.hlines(min_completion_time_work/1e6, xmin=1, xmax=35, linestyle='-.', label='theoretical best (workload reads)')\n",
    "    \n",
    "    if f == 'videos/test_big.mp4':\n",
    "        plt.yticks([x*2.5 for x in range(0,30,1)])\n",
    "        plt.vlines(31, ymin=0, ymax=30*2.5, color='#d0d0d0', linestyle='-')\n",
    "    if f == 'videos/test_mid.mp4':\n",
    "        plt.yticks([x*0.5 for x in range(0,23,1)])\n",
    "        plt.vlines(31, ymin=0, ymax=23*0.5, color='#d0d0d0', linestyle='-')\n",
    "    if f == 'videos/test_small.mp4':\n",
    "        plt.yticks([x*0.1 for x in range(0,27,1)])\n",
    "        plt.vlines(31, ymin=0, ymax=27*0.1, color='#d0d0d0', linestyle='-')\n",
    "\n",
    "    plt.legend()\n",
    "    plt.ylabel(\"Completion time (seconds)\")\n",
    "    plt.xlabel(\"Number of workers\")\n",
    "    plt.title(f\"{f} - Completion time over number of non-emitter workers \")\n",
    "    plt.savefig(f'completion_time_{crop_slash(f)}.svg',bbox_inches='tight')    \n",
    "    plt.show()\n",
    "    \n",
    "print(s)"
   ]
  },
  {
   "cell_type": "markdown",
   "metadata": {},
   "source": [
    "# Efficiency"
   ]
  },
  {
   "cell_type": "code",
   "execution_count": null,
   "metadata": {},
   "outputs": [],
   "source": [
    "for f in filenames:\n",
    "    size()\n",
    "    def seq(n): return sequentials[sequentials['filename'] == f][n].values[0]\n",
    "    for p, m, d in programs:\n",
    "        y = (seq('total_time') / all_n_workers) / df[(df['name'] == 'bin/'+p) & (df['filename'] == f)]['avg']\n",
    "        plt.plot(all_n_workers, y, d, label=p, marker=m)\n",
    "    plt.grid(color='#e0e0e0', linestyle='-', linewidth=1)\n",
    "    plt.yticks([x*0.1 for x in range(0,11,1)])\n",
    "    plt.gca().get_yaxis().set_major_formatter(mplt.ticker.ScalarFormatter())\n",
    "    plt.gca().get_yaxis().get_major_formatter().labelOnlyBase = False\n",
    "    plt.vlines(31, ymin=0, ymax=1, color='#d0d0d0', linestyle='-')\n",
    "\n",
    "    plt.plot(all_n_workers, all_n_workers * 0 + 1, '--', label='ideal')\n",
    "    plt.xticks(all_n_workers)\n",
    "\n",
    "    plt.legend()\n",
    "    plt.ylabel(\"Efficiency\")\n",
    "    plt.xlabel(\"Number of workers\")\n",
    "    plt.title(f\"{f} - Efficiency over number of non-emitter workers\")\n",
    "    plt.savefig(f'efficiency_{crop_slash(f)}.svg',bbox_inches='tight')  \n",
    "    plt.show()"
   ]
  },
  {
   "cell_type": "markdown",
   "metadata": {},
   "source": [
    "# Minimum service time"
   ]
  },
  {
   "cell_type": "code",
   "execution_count": null,
   "metadata": {},
   "outputs": [],
   "source": [
    "\n",
    "for p, m, d in programs:\n",
    "    print(p, end=' & ')\n",
    "    for f in filenames:\n",
    "        def seq(n): return sequentials[sequentials['filename'] == f][n].values[0]\n",
    "\n",
    "        min_completion_time_work = seq('init_time') + seq('work_read_time') * seq('frames')\n",
    "        min_completion_time_fast = seq('init_time') + seq('fast_read_time') * seq('frames')\n",
    "\n",
    "        data = df[(df['name'] == 'bin/'+p) & (df['filename'] == f)]\n",
    "        y = (data['avg'] - seq('init_time')) / seq('frames')\n",
    "        print(int(y.min()), '&', int(y.argmin()), '&', end='\\t')\n",
    "    print('\\n')\n",
    "\n",
    "for f in filenames:\n",
    "    def seq(n): return sequentials[sequentials['filename'] == f][n].values[0]\n",
    "    print(seq('fast_read_time'), end=' & ')"
   ]
  }
 ],
 "metadata": {
  "kernelspec": {
   "display_name": "Python 3.10.4 64-bit",
   "language": "python",
   "name": "python3"
  },
  "language_info": {
   "codemirror_mode": {
    "name": "ipython",
    "version": 3
   },
   "file_extension": ".py",
   "mimetype": "text/x-python",
   "name": "python",
   "nbconvert_exporter": "python",
   "pygments_lexer": "ipython3",
   "version": "3.10.4"
  },
  "orig_nbformat": 4,
  "vscode": {
   "interpreter": {
    "hash": "e7370f93d1d0cde622a1f8e1c04877d8463912d04d973331ad4851f04de6915a"
   }
  }
 },
 "nbformat": 4,
 "nbformat_minor": 2
}
