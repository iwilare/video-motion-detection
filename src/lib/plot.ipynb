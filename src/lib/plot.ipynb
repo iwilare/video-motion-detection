{
 "cells": [
  {
   "cell_type": "code",
   "execution_count": null,
   "metadata": {},
   "outputs": [],
   "source": [
    "import numpy as np\n",
    "import pandas as pd\n",
    "import matplotlib as plt\n",
    "import functools\n",
    "\n",
    "symbols = ['circle', 'square', 'x', 'diamond', 'triangle-up']\n",
    "\n",
    "df = pd.read_csv(results_path)\n",
    "df.head()"
   ]
  }
 ],
 "metadata": {
  "language_info": {
   "name": "python"
  },
  "orig_nbformat": 4
 },
 "nbformat": 4,
 "nbformat_minor": 2
}
